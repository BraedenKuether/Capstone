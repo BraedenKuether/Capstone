{
 "cells": [
  {
   "cell_type": "code",
   "execution_count": 1,
   "metadata": {},
   "outputs": [],
   "source": [
    "import urllib.request\n",
    "import urllib\n",
    "\n",
    "dest = \"C:/Users/Braeden Kuether/Desktop/template_test/\"\n",
    "\n",
    "fp = urllib.request.urlopen(\"https://www.sec.gov/cgi-bin/browse-edgar?action=getcompany&CIK=0000002488&type=10-K&dateb=&owner=exclude&count=10&search_text=\")\n",
    "mybytes = fp.read()\n",
    "    \n",
    "mystr = mybytes.decode(\"utf8\")\n",
    "fp.close()"
   ]
  },
  {
   "cell_type": "code",
   "execution_count": 3,
   "metadata": {},
   "outputs": [],
   "source": [
    "urlBeg = \"https://www.sec.gov/Archives/edgar/data/2488/\"\n",
    "urlEnd = \"/Financial_Report.xlsx\"\n",
    "\n",
    "position = 0\n",
    "strLen = 150\n",
    "length = len(mystr)\n",
    "years = 9\n",
    "files = []\n",
    "\n",
    "def findSlash(tempstr):\n",
    "    return tempstr.find('/')\n",
    "\n",
    "for i in range(years):\n",
    "    tempstr = mystr[position:length]\n",
    "    tenK = tempstr.find('<td nowrap=\"nowrap\">10-K')\n",
    "    if tenK != -1:\n",
    "        tenK += position\n",
    "        position = (tenK + strLen)\n",
    "        url = mystr[tenK:position]\n",
    "        \n",
    "        for j in range(6):\n",
    "            nextSlash = findSlash(url) + 1\n",
    "            url = url[nextSlash:strLen]\n",
    "            \n",
    "        nextSlash = findSlash(url)\n",
    "        url = url[0:nextSlash]\n",
    "        url = urlBeg + url + urlEnd\n",
    "        files.append(url)\n",
    "    \n",
    "#https://www.sec.gov/Archives/edgar/data/2488/000162828021001185/Financial_Report.xlsx        "
   ]
  },
  {
   "cell_type": "code",
   "execution_count": 5,
   "metadata": {},
   "outputs": [],
   "source": [
    "k = 0\n",
    "for f in files:\n",
    "    k += 1\n",
    "    urllib.request.urlretrieve(files[1], dest + \"10-K\" + str(k) + \".xlsx\")   "
   ]
  },
  {
   "cell_type": "code",
   "execution_count": null,
   "metadata": {},
   "outputs": [],
   "source": []
  }
 ],
 "metadata": {
  "kernelspec": {
   "display_name": "Python 3",
   "language": "python",
   "name": "python3"
  },
  "language_info": {
   "codemirror_mode": {
    "name": "ipython",
    "version": 3
   },
   "file_extension": ".py",
   "mimetype": "text/x-python",
   "name": "python",
   "nbconvert_exporter": "python",
   "pygments_lexer": "ipython3",
   "version": "3.8.3"
  }
 },
 "nbformat": 4,
 "nbformat_minor": 4
}
